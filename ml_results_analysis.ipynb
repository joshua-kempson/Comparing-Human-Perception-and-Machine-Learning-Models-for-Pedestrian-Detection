{
 "cells": [
  {
   "cell_type": "code",
   "execution_count": null,
   "id": "e7da8633",
   "metadata": {},
   "outputs": [],
   "source": [
    "import pandas as pd\n",
    "import numpy as np\n",
    "import matplotlib.pyplot as plt\n",
    "import scipy.stats as stats"
   ]
  },
  {
   "cell_type": "code",
   "execution_count": null,
   "id": "08460e33",
   "metadata": {},
   "outputs": [
    {
     "name": "stdout",
     "output_type": "stream",
     "text": [
      "Overall ML accuracy: 78.30%\n",
      "\n",
      "Accuracy per model:\n",
      "model\n",
      "rtdetr-x    79.0\n",
      "yolo11n     76.5\n",
      "yolo11x     77.0\n",
      "yolov8n     75.0\n",
      "yolov8x     84.0\n",
      "Name: correct, dtype: float64\n",
      "\n",
      "Sample of accuracy per image:\n",
      "image_name\n",
      "budapest_02037.jpg    100.0\n",
      "budapest_02042.jpg     80.0\n",
      "budapest_02045.jpg    100.0\n",
      "budapest_02048.jpg     40.0\n",
      "budapest_02049.jpg     80.0\n",
      "Name: correct, dtype: float64\n"
     ]
    }
   ],
   "source": [
    "ml_df = pd.read_csv(\"ML_Results.csv\")\n",
    "\n",
    "ml_df[\"correct\"] = ml_df[\"correct\"].astype(int)\n",
    "\n",
    "overall_accuracy = ml_df[\"correct\"].mean() * 100\n",
    "print(f\"Overall ML accuracy: {overall_accuracy:.2f}%\")\n",
    "\n",
    "model_acc = ml_df.groupby(\"model\")[\"correct\"].mean() * 100\n",
    "print(\"\\nAccuracy per model:\")\n",
    "print(model_acc)\n",
    "\n",
    "image_acc = ml_df.groupby(\"image_name\")[\"correct\"].mean() * 100\n",
    "print(\"\\nSample of accuracy per image:\")\n",
    "print(image_acc.head())\n"
   ]
  },
  {
   "cell_type": "code",
   "execution_count": null,
   "id": "6cf7eca9",
   "metadata": {},
   "outputs": [
    {
     "name": "stdout",
     "output_type": "stream",
     "text": [
      "Top 5 Best Performing Images:\n",
      "            image_name  accuracy\n",
      "0   budapest_02037.jpg       1.0\n",
      "2   budapest_02045.jpg       1.0\n",
      "7   budapest_02057.jpg       1.0\n",
      "5   budapest_02055.jpg       1.0\n",
      "12  budapest_02071.jpg       1.0\n",
      "\n",
      "Top 5 Worst Performing Images:\n",
      "            image_name  accuracy\n",
      "23  budapest_02099.jpg       0.0\n",
      "59     koeln_01153.jpg       0.0\n",
      "95   leipzig_01131.jpg       0.0\n",
      "76     koeln_01269.jpg       0.0\n",
      "97   leipzig_01136.jpg       0.0\n",
      "\n",
      "Average Accuracy by Image Type:\n",
      "   correct_response  accuracy\n",
      "0                 1     0.690\n",
      "1                 2     0.876\n",
      "No-pedestrian images performed better on average.\n"
     ]
    }
   ],
   "source": [
    "ml_file = \"ML_Results.csv\"\n",
    "ml_df = pd.read_csv(ml_file)\n",
    "\n",
    "gt_file = \"../../Human Test Results/main-ped-results.xlsx\"\n",
    "gt_df = pd.read_excel(gt_file, sheet_name=\"Main sheet\")\n",
    "gt_df = gt_df[gt_df[\"List\"] == 1] \n",
    "\n",
    "merged_df = ml_df.merge(\n",
    "    gt_df[[\"Image\", \"correct_response\"]],\n",
    "    left_on=\"image_name\",\n",
    "    right_on=\"Image\",\n",
    "    how=\"left\"\n",
    ")\n",
    "\n",
    "image_performance = merged_df.groupby(\"image_name\", as_index=False)[\"correct\"].mean()\n",
    "image_performance.rename(columns={\"correct\": \"accuracy\"}, inplace=True)\n",
    "\n",
    "top5_best = image_performance.sort_values(by=\"accuracy\", ascending=False).head(5)\n",
    "top5_worst = image_performance.sort_values(by=\"accuracy\", ascending=True).head(5)\n",
    "\n",
    "with pd.ExcelWriter(\"ml_image_performance_summary.xlsx\") as writer:\n",
    "    top5_best.to_excel(writer, sheet_name=\"Top5_Best\", index=False)\n",
    "    top5_worst.to_excel(writer, sheet_name=\"Top5_Worst\", index=False)\n",
    "\n",
    "print(\"Top 5 Best Performing Images:\")\n",
    "print(top5_best)\n",
    "\n",
    "print(\"\\nTop 5 Worst Performing Images:\")\n",
    "print(top5_worst)\n",
    "\n",
    "response_performance = merged_df.groupby(\"correct_response\", as_index=False)[\"correct\"].mean()\n",
    "response_performance.rename(columns={\"correct\": \"accuracy\"}, inplace=True)\n",
    "\n",
    "print(\"\\nAverage Accuracy by Image Type:\")\n",
    "print(response_performance)\n",
    "\n",
    "if response_performance.loc[response_performance['correct_response'] == 1, 'accuracy'].values[0] > \\\n",
    "   response_performance.loc[response_performance['correct_response'] == 2, 'accuracy'].values[0]:\n",
    "    print(\"Pedestrian images performed better on average.\")\n",
    "else:\n",
    "    print(\"No-pedestrian images performed better on average.\")"
   ]
  },
  {
   "cell_type": "code",
   "execution_count": 7,
   "id": "e189c915",
   "metadata": {},
   "outputs": [
    {
     "name": "stdout",
     "output_type": "stream",
     "text": [
      "\n",
      "Number of images with 100% accuracy: 119\n",
      "Number of images with 0% accuracy: 12\n"
     ]
    }
   ],
   "source": [
    "num_100 = (image_performance[\"accuracy\"] == 1.0).sum()\n",
    "num_0 = (image_performance[\"accuracy\"] == 0.0).sum()\n",
    "\n",
    "print(f\"\\nNumber of images with 100% accuracy: {num_100}\")\n",
    "print(f\"Number of images with 0% accuracy: {num_0}\")"
   ]
  },
  {
   "cell_type": "code",
   "execution_count": null,
   "id": "5a7bd3f5",
   "metadata": {},
   "outputs": [
    {
     "name": "stdout",
     "output_type": "stream",
     "text": [
      "Unique false positive cases: 62\n",
      "               image_name pedestrian_detected  correct     model  \\\n",
      "234    budapest_02056.jpg                 YES    False   yolo11n   \n",
      "884    budapest_02070.jpg                 YES    False   yolo11n   \n",
      "1040    leipzig_01060.jpg                 YES    False   yolo11n   \n",
      "1326     zagreb_02156.jpg                 YES    False   yolo11n   \n",
      "1508    leipzig_01064.jpg                 YES    False   yolo11n   \n",
      "...                   ...                 ...      ...       ...   \n",
      "23062  budapest_02073.jpg                 YES    False  rtdetr-x   \n",
      "23088     koeln_01247.jpg                 YES    False  rtdetr-x   \n",
      "23244   leipzig_01129.jpg                 YES    False  rtdetr-x   \n",
      "23270    zagreb_02025.jpg                 YES    False  rtdetr-x   \n",
      "23322    zagreb_02096.jpg                 YES    False  rtdetr-x   \n",
      "\n",
      "                    Image  correct_response  \n",
      "234    budapest_02056.jpg                 2  \n",
      "884    budapest_02070.jpg                 2  \n",
      "1040    leipzig_01060.jpg                 2  \n",
      "1326     zagreb_02156.jpg                 2  \n",
      "1508    leipzig_01064.jpg                 2  \n",
      "...                   ...               ...  \n",
      "23062  budapest_02073.jpg                 2  \n",
      "23088     koeln_01247.jpg                 2  \n",
      "23244   leipzig_01129.jpg                 2  \n",
      "23270    zagreb_02025.jpg                 2  \n",
      "23322    zagreb_02096.jpg                 2  \n",
      "\n",
      "[62 rows x 6 columns]\n"
     ]
    }
   ],
   "source": [
    "false_positives = merged_df[\n",
    "    (merged_df[\"correct_response\"] == 2) & \n",
    "    (merged_df[\"pedestrian_detected\"] == \"YES\")\n",
    "]\n",
    "\n",
    "false_positives_unique = false_positives.drop_duplicates(subset=[\"image_name\", \"model\"])\n",
    "\n",
    "print(f\"Unique false positive cases: {len(false_positives_unique)}\")\n",
    "print(false_positives_unique)"
   ]
  },
  {
   "cell_type": "code",
   "execution_count": null,
   "id": "e9393293",
   "metadata": {},
   "outputs": [
    {
     "name": "stdout",
     "output_type": "stream",
     "text": [
      "      model  correct_response  accuracy    subcategory\n",
      "0  rtdetr-x                 1      0.84     pedestrian\n",
      "1  rtdetr-x                 2      0.74  no pedestrian\n",
      "2   yolo11n                 1      0.61     pedestrian\n",
      "3   yolo11n                 2      0.92  no pedestrian\n",
      "4   yolo11x                 1      0.61     pedestrian\n",
      "5   yolo11x                 2      0.93  no pedestrian\n",
      "6   yolov8n                 1      0.62     pedestrian\n",
      "7   yolov8n                 2      0.88  no pedestrian\n",
      "8   yolov8x                 1      0.77     pedestrian\n",
      "9   yolov8x                 2      0.91  no pedestrian\n"
     ]
    }
   ],
   "source": [
    "model_subcat_perf = (\n",
    "    merged_df.groupby([\"model\", \"correct_response\"], as_index=False)[\"correct\"]\n",
    "    .mean()\n",
    "    .rename(columns={\"correct\": \"accuracy\"})\n",
    ")\n",
    "\n",
    "model_subcat_perf[\"subcategory\"] = model_subcat_perf[\"correct_response\"].map(\n",
    "    {1: \"pedestrian\", 2: \"no pedestrian\"}\n",
    ")\n",
    "\n",
    "print(model_subcat_perf)"
   ]
  },
  {
   "cell_type": "code",
   "execution_count": null,
   "id": "d6b4ad86",
   "metadata": {},
   "outputs": [
    {
     "data": {
      "image/png": "[encoded data removed]",
      "text/plain": [
       "<Figure size 1000x600 with 1 Axes>"
      ]
     },
     "metadata": {},
     "output_type": "display_data"
    }
   ],
   "source": [
    "model_subcat_perf = (\n",
    "    merged_df.groupby([\"model\", \"correct_response\"], as_index=False)[\"correct\"]\n",
    "    .mean()\n",
    "    .rename(columns={\"correct\": \"accuracy\"})\n",
    ")\n",
    "\n",
    "model_subcat_perf[\"subcategory\"] = model_subcat_perf[\"correct_response\"].map(\n",
    "    {1: \"pedestrian\", 2: \"no pedestrian\"}\n",
    ")\n",
    "\n",
    "pivot_df = model_subcat_perf.pivot(index=\"model\", columns=\"subcategory\", values=\"accuracy\")\n",
    "\n",
    "pivot_df.plot(kind=\"bar\", figsize=(10, 6))\n",
    "\n",
    "plt.title(\"Model Performance by Subcategory\")\n",
    "plt.ylabel(\"Accuracy\")\n",
    "plt.ylim(0, 1)  \n",
    "plt.xticks(rotation=45, ha=\"right\")\n",
    "plt.legend(title=\"Image Type\")\n",
    "plt.tight_layout()\n",
    "plt.savefig('ml_sub_acc_histogram.png')\n",
    "plt.show()\n"
   ]
  },
  {
   "cell_type": "code",
   "execution_count": null,
   "id": "a240dd3f",
   "metadata": {},
   "outputs": [
    {
     "name": "stdout",
     "output_type": "stream",
     "text": [
      "ANOVA Pedestrian Images: F_onewayResult(statistic=np.float64(5.637647863916318), pvalue=np.float64(0.00019176069645966234))\n",
      "ANOVA No-Pedestrian Images: F_onewayResult(statistic=np.float64(5.851041264944079), pvalue=np.float64(0.00013175364108073862))\n"
     ]
    }
   ],
   "source": [
    "image_model_type_perf = (\n",
    "    merged_df.groupby([\"image_name\", \"model\", \"correct_response\"])[\"correct\"]\n",
    "    .mean()\n",
    "    .reset_index()\n",
    ")\n",
    "\n",
    "pedestrian = image_model_type_perf[image_model_type_perf[\"correct_response\"] == 1]\n",
    "no_pedestrian = image_model_type_perf[image_model_type_perf[\"correct_response\"] == 2]\n",
    "\n",
    "anova_ped = stats.f_oneway(\n",
    "    *[pedestrian[pedestrian[\"model\"] == m][\"correct\"] for m in pedestrian[\"model\"].unique()]\n",
    ")\n",
    "\n",
    "anova_noped = stats.f_oneway(\n",
    "    *[no_pedestrian[no_pedestrian[\"model\"] == m][\"correct\"] for m in no_pedestrian[\"model\"].unique()]\n",
    ")\n",
    "\n",
    "print(\"ANOVA Pedestrian Images:\", anova_ped)\n",
    "print(\"ANOVA No-Pedestrian Images:\", anova_noped)\n"
   ]
  },
  {
   "cell_type": "code",
   "execution_count": 30,
   "id": "3216514a",
   "metadata": {},
   "outputs": [
    {
     "name": "stdout",
     "output_type": "stream",
     "text": [
      "yolo11n: t=8.82, p=5.927e-16\n",
      "yolo11x: t=9.05, p=1.310e-16\n",
      "yolov8n: t=8.14, p=4.124e-14\n",
      "yolov8x: t=13.08, p=1.252e-28\n",
      "rtdetr-x: t=10.04, p=1.837e-19\n"
     ]
    }
   ],
   "source": [
    "for model in merged_df[\"model\"].unique():\n",
    "    model_perf = (\n",
    "        merged_df[merged_df[\"model\"] == model]\n",
    "        .groupby(\"image_name\")[\"correct\"]\n",
    "        .mean()\n",
    "    )\n",
    "    \n",
    "    t_stat, p_val = stats.ttest_1samp(model_perf, 0.5)\n",
    "    print(f\"{model}: t={t_stat:.2f}, p={p_val:.3e}\")"
   ]
  }
 ],
 "metadata": {
  "kernelspec": {
   "display_name": ".venv",
   "language": "python",
   "name": "python3"
  },
  "language_info": {
   "codemirror_mode": {
    "name": "ipython",
    "version": 3
   },
   "file_extension": ".py",
   "mimetype": "text/x-python",
   "name": "python",
   "nbconvert_exporter": "python",
   "pygments_lexer": "ipython3",
   "version": "3.12.3"
  }
 },
 "nbformat": 4,
 "nbformat_minor": 5
}
